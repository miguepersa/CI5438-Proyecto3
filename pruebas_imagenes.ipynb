{
 "cells": [
  {
   "cell_type": "markdown",
   "metadata": {},
   "source": [
    "# Pruebas de segmentacion de imagenes"
   ]
  },
  {
   "cell_type": "code",
   "execution_count": null,
   "metadata": {},
   "outputs": [],
   "source": [
    "from img_util import *\n",
    "from K_means import *"
   ]
  },
  {
   "cell_type": "code",
   "execution_count": null,
   "metadata": {},
   "outputs": [],
   "source": [
    "df_image1, width_p4, height_p4 = read_picture_rgb('./input/p4.jpg')\n",
    "km_p4_2 = Kmeans(df_image1, 8)\n",
    "km_p4_2.train(10)\n",
    "out = update_picture_w_centroids(km_p4_2.X, km_p4_2.centroides)\n",
    "write_picture_from_rgb(\"p4_k32.jpg\", out, width_p4, height_p4)"
   ]
  },
  {
   "cell_type": "code",
   "execution_count": null,
   "metadata": {},
   "outputs": [],
   "source": [
    "df_image2, width_p2, height_p2 = read_picture_rgb('./input/p2.jpg')"
   ]
  },
  {
   "cell_type": "code",
   "execution_count": null,
   "metadata": {},
   "outputs": [],
   "source": [
    "km_p2_2 = Kmeans(df_image2, 16)\n",
    "km_p2_2.train(3)\n",
    "out = update_picture_w_centroids(km_p2_2.X, km_p2_2.centroides)"
   ]
  },
  {
   "cell_type": "code",
   "execution_count": null,
   "metadata": {},
   "outputs": [],
   "source": [
    "write_picture_from_rgb(\"p2_k8.jpg\", out, width_p2, height_p2)"
   ]
  },
  {
   "cell_type": "code",
   "execution_count": null,
   "metadata": {},
   "outputs": [],
   "source": [
    "df_image3, width_p5, height_p5 = read_picture_rgb('./input/p5.jpg')\n",
    "km_p5_2 = Kmeans(df_image3, 8)\n",
    "km_p5_2.train(10)\n",
    "out = update_picture_w_centroids(km_p5_2.X, km_p5_2.centroides)\n",
    "write_picture_from_rgb(\"p5_k8.jpg\", out, width_p5, height_p5)"
   ]
  }
 ],
 "metadata": {
  "kernelspec": {
   "display_name": "Python 3",
   "language": "python",
   "name": "python3"
  },
  "language_info": {
   "codemirror_mode": {
    "name": "ipython",
    "version": 3
   },
   "file_extension": ".py",
   "mimetype": "text/x-python",
   "name": "python",
   "nbconvert_exporter": "python",
   "pygments_lexer": "ipython3",
   "version": "3.11.4"
  }
 },
 "nbformat": 4,
 "nbformat_minor": 2
}
