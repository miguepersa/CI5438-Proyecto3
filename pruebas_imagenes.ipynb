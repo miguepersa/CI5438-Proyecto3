{
 "cells": [
  {
   "cell_type": "markdown",
   "metadata": {},
   "source": [
    "# Pruebas de segmentacion de imagenes"
   ]
  },
  {
   "cell_type": "code",
   "execution_count": 2,
   "metadata": {},
   "outputs": [],
   "source": [
    "from img_util import *"
   ]
  },
  {
   "cell_type": "markdown",
   "metadata": {},
   "source": [
    "## Pruebas con './input/p1.jpg'"
   ]
  },
  {
   "cell_type": "code",
   "execution_count": 2,
   "metadata": {},
   "outputs": [
    {
     "name": "stdout",
     "output_type": "stream",
     "text": [
      "Convergencia alcanzada en la iteracion numero: 7\n",
      "Convergencia alcanzada en la iteracion numero: 15\n"
     ]
    }
   ],
   "source": [
    "segmentacion_imagen('p1.jpg', 'p1_k2.jpg', 2, 50)\n",
    "segmentacion_imagen('p1.jpg', 'p1_k4.jpg', 4, 50)\n",
    "segmentacion_imagen('p1.jpg', 'p1_k8.jpg', 8, 50)\n",
    "segmentacion_imagen('p1.jpg', 'p1_k16.jpg', 16, 50)\n",
    "segmentacion_imagen('p1.jpg', 'p1_k32.jpg', 32, 50)"
   ]
  },
  {
   "cell_type": "markdown",
   "metadata": {},
   "source": [
    "## Pruebas con './input/p2.jpg'"
   ]
  },
  {
   "cell_type": "code",
   "execution_count": 3,
   "metadata": {},
   "outputs": [
    {
     "name": "stdout",
     "output_type": "stream",
     "text": [
      "Convergencia alcanzada en la iteracion numero: 7\n",
      "Convergencia alcanzada en la iteracion numero: 17\n",
      "Convergencia alcanzada en la iteracion numero: 20\n"
     ]
    }
   ],
   "source": [
    "segmentacion_imagen('p2.jpg', 'p2_k2.jpg', 2, 50)\n",
    "segmentacion_imagen('p2.jpg', 'p2_k4.jpg', 4, 50)\n",
    "segmentacion_imagen('p2.jpg', 'p2_k8.jpg', 8, 50)\n",
    "segmentacion_imagen('p2.jpg', 'p2_k16.jpg', 16, 50)\n",
    "segmentacion_imagen('p2.jpg', 'p2_k32.jpg', 32, 50)"
   ]
  },
  {
   "cell_type": "code",
   "execution_count": 4,
   "metadata": {},
   "outputs": [
    {
     "name": "stdout",
     "output_type": "stream",
     "text": [
      "Convergencia alcanzada en la iteracion numero: 23\n",
      "Convergencia alcanzada en la iteracion numero: 40\n"
     ]
    }
   ],
   "source": [
    "segmentacion_imagen('p3.jpg', 'p3_k2.jpg', 2, 50)\n",
    "segmentacion_imagen('p3.jpg', 'p3_k4.jpg', 4, 50)\n",
    "segmentacion_imagen('p3.jpg', 'p3_k8.jpg', 8, 50)\n",
    "segmentacion_imagen('p3.jpg', 'p3_k16.jpg', 16, 50)\n",
    "segmentacion_imagen('p3.jpg', 'p3_k32.jpg', 32, 50)"
   ]
  }
 ],
 "metadata": {
  "kernelspec": {
   "display_name": "Python 3",
   "language": "python",
   "name": "python3"
  },
  "language_info": {
   "codemirror_mode": {
    "name": "ipython",
    "version": 3
   },
   "file_extension": ".py",
   "mimetype": "text/x-python",
   "name": "python",
   "nbconvert_exporter": "python",
   "pygments_lexer": "ipython3",
   "version": "3.11.1"
  }
 },
 "nbformat": 4,
 "nbformat_minor": 2
}
