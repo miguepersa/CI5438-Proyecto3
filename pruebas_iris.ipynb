{
 "cells": [
  {
   "cell_type": "code",
   "execution_count": 1,
   "metadata": {},
   "outputs": [],
   "source": [
    "import pandas as pd\n",
    "from K_means import Kmeans\n",
    "data = pd.read_csv(\"iris.csv\")\n",
    "cols = list(data.columns)\n",
    "ind = cols[:-1]"
   ]
  },
  {
   "cell_type": "markdown",
   "metadata": {},
   "source": [
    "# Pruebas de \"iris.csv\""
   ]
  },
  {
   "cell_type": "markdown",
   "metadata": {},
   "source": [
    "### Prueba: k = 2 sin normalizacion"
   ]
  },
  {
   "cell_type": "code",
   "execution_count": 2,
   "metadata": {},
   "outputs": [
    {
     "name": "stdout",
     "output_type": "stream",
     "text": [
      "Iteracion numero: 0\n",
      "Iteracion numero: 1\n",
      "Iteracion numero: 2\n",
      "Iteracion numero: 3\n",
      "Convergencia alcanzada en la iteracion numero: 3\n"
     ]
    }
   ],
   "source": [
    "k_means_2 = Kmeans(data[ind], 2)\n",
    "k_means_2.train(1000)\n",
    "class_k_2_no_normalize = k_means_2.X"
   ]
  },
  {
   "cell_type": "markdown",
   "metadata": {},
   "source": [
    "### Prueba: k = 2 con normalizacion"
   ]
  },
  {
   "cell_type": "code",
   "execution_count": 3,
   "metadata": {},
   "outputs": [
    {
     "name": "stdout",
     "output_type": "stream",
     "text": [
      "Iteracion numero: 0\n",
      "Iteracion numero: 1\n",
      "Iteracion numero: 2\n",
      "Iteracion numero: 3\n",
      "Convergencia alcanzada en la iteracion numero: 3\n"
     ]
    }
   ],
   "source": [
    "k_means_2 = Kmeans(data[ind], 2, normalize=True)\n",
    "k_means_2.train(1000)\n",
    "class_k_2_normalize = k_means_2.X"
   ]
  },
  {
   "cell_type": "markdown",
   "metadata": {},
   "source": [
    "### Prueba: k = 3 sin normalizacion"
   ]
  },
  {
   "cell_type": "code",
   "execution_count": null,
   "metadata": {},
   "outputs": [],
   "source": [
    "k_means_3 = Kmeans(data[ind], 3)\n",
    "k_means_3.train(1000)\n",
    "class_k_3_no_normalize = k_means_3.X"
   ]
  },
  {
   "cell_type": "markdown",
   "metadata": {},
   "source": [
    "### Prueba: k = 3 con normalizacion"
   ]
  },
  {
   "cell_type": "code",
   "execution_count": null,
   "metadata": {},
   "outputs": [],
   "source": [
    "k_means_3 = Kmeans(data[ind], 3, normalize= True)\n",
    "k_means_3.train(1000)\n",
    "class_k_3_normalize = k_means_3.X"
   ]
  },
  {
   "cell_type": "markdown",
   "metadata": {},
   "source": [
    "### Prueba: k = 4 sin normalizacion"
   ]
  },
  {
   "cell_type": "code",
   "execution_count": null,
   "metadata": {},
   "outputs": [],
   "source": [
    "k_means_4 = Kmeans(data[ind], 4)\n",
    "k_means_4.train(1000)\n",
    "class_k_4_no_normalize = k_means_4.X"
   ]
  },
  {
   "cell_type": "markdown",
   "metadata": {},
   "source": [
    "### Prueba: k = 4 con normalizacion"
   ]
  },
  {
   "cell_type": "code",
   "execution_count": null,
   "metadata": {},
   "outputs": [],
   "source": [
    "k_means_4 = Kmeans(data[ind], 4, normalize=True)\n",
    "k_means_4.train(1000)\n",
    "class_k_4_normalize = k_means_4.X"
   ]
  },
  {
   "cell_type": "markdown",
   "metadata": {},
   "source": [
    "### Prueba: k = 5 sin normalizacion"
   ]
  },
  {
   "cell_type": "code",
   "execution_count": null,
   "metadata": {},
   "outputs": [],
   "source": [
    "k_means_5 = Kmeans(data[ind], 5)\n",
    "k_means_5.train(1000)\n",
    "class_k_5_no_normalize = k_means_5.X"
   ]
  },
  {
   "cell_type": "markdown",
   "metadata": {},
   "source": [
    "### Prueba: k = 5 con normalizacion"
   ]
  },
  {
   "cell_type": "code",
   "execution_count": null,
   "metadata": {},
   "outputs": [],
   "source": [
    "k_means_5 = Kmeans(data[ind], 5, normalize=True)\n",
    "k_means_5.train(1000)\n",
    "class_k_5_normalize = k_means_5.X"
   ]
  }
 ],
 "metadata": {
  "kernelspec": {
   "display_name": "Python 3",
   "language": "python",
   "name": "python3"
  },
  "language_info": {
   "codemirror_mode": {
    "name": "ipython",
    "version": 3
   },
   "file_extension": ".py",
   "mimetype": "text/x-python",
   "name": "python",
   "nbconvert_exporter": "python",
   "pygments_lexer": "ipython3",
   "version": "3.11.4"
  }
 },
 "nbformat": 4,
 "nbformat_minor": 2
}
